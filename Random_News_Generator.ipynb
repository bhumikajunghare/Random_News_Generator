{
 "cells": [
  {
   "cell_type": "code",
   "execution_count": null,
   "id": "430acac0-c6a7-46ba-9f11-ee82365da9eb",
   "metadata": {},
   "outputs": [
    {
     "name": "stdout",
     "output_type": "stream",
     "text": [
      "\n",
      "BREAKING NEWS: ChatGPT becomes sentient, gets replaced by mood swings with a plate of samosa!\n"
     ]
    },
    {
     "name": "stdin",
     "output_type": "stream",
     "text": [
      "\n",
      "Do you want another headline? (yes/no):  yes\n"
     ]
    },
    {
     "name": "stdout",
     "output_type": "stream",
     "text": [
      "\n",
      "BREAKING NEWS: Celebrity says, asks for coffee breaks at Ganga Ghat!\n"
     ]
    }
   ],
   "source": [
    "# Step 1: Import random module\n",
    "import random\n",
    "\n",
    "# Step 2: Create Subjects\n",
    "subjects = [\n",
    "    \"AI demands a salary,\",\n",
    "    \"Scientists accidentally create\",\n",
    "    \"ChatGPT becomes sentient,\",\n",
    "    \"Yoga instructor sues gravity,\",\n",
    "    \"Tom Cruise cast in a cooking show,\",\n",
    "    \"Aliens return to Earth,\",\n",
    "    \"Cat becomes influencer,\",\n",
    "    \"Celebrity says,\"\n",
    "]\n",
    "\n",
    "# Step 3: Create Actions\n",
    "actions = [\n",
    "    \"orders pizza on Alexa\",\n",
    "    \"immediately declares park day daily\",\n",
    "    \"launches currency based on memes and vibes\",\n",
    "    \"invents a potato that can sing\",\n",
    "    \"asks for coffee breaks\",\n",
    "    \"starts learning about labor laws\",\n",
    "    \"joins gym and lifts more than trainer\",\n",
    "    \"gets replaced by mood swings\"\n",
    "]\n",
    "\n",
    "# Step 4: Create Places or Things\n",
    "places_or_things = [\n",
    "    \"using GPS on Mars\",\n",
    "    \"with a plate of samosa\",\n",
    "    \"at Red Fort\",\n",
    "    \"at Ganga Ghat\",\n",
    "    \"between 9AM and 6PM\",\n",
    "    \"every 5 minutes without warning\",\n",
    "    \"but only for snacks\",\n",
    "    \"and turns into ice cubes in 3 seconds\"\n",
    "]\n",
    "\n",
    "# Step 5: Start the headline generating loop\n",
    "while True:\n",
    "    subject = random.choice(subjects)\n",
    "    action = random.choice(actions)\n",
    "    place_or_thing = random.choice(places_or_things)\n",
    "\n",
    "    headline = f\"\\nBREAKING NEWS: {subject} {action} {place_or_thing}!\"\n",
    "    print(headline)\n",
    "\n",
    "    user_input = input(\"\\nDo you want another headline? (yes/no): \").strip().lower()\n",
    "    if user_input == \"no\":\n",
    "        break\n",
    "\n",
    "# Print goodbye message\n",
    "print(\"\\nThank you for using the Fake News Headline Generator. Have a hilarious day!\")\n"
   ]
  }
 ],
 "metadata": {
  "kernelspec": {
   "display_name": "Python 3 (ipykernel)",
   "language": "python",
   "name": "python3"
  },
  "language_info": {
   "codemirror_mode": {
    "name": "ipython",
    "version": 3
   },
   "file_extension": ".py",
   "mimetype": "text/x-python",
   "name": "python",
   "nbconvert_exporter": "python",
   "pygments_lexer": "ipython3",
   "version": "3.12.4"
  }
 },
 "nbformat": 4,
 "nbformat_minor": 5
}
